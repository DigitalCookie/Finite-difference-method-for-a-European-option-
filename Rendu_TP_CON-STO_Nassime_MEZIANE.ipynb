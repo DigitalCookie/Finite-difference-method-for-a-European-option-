{
 "cells": [
  {
   "cell_type": "code",
   "execution_count": 38,
   "metadata": {},
   "outputs": [],
   "source": [
    "import numpy as np \n",
    "import pandas as pd\n",
    "import plotly.express as px\n",
    "import matplotlib.pyplot as plt\n",
    "import numpy.linalg as lng \n",
    "import time\n",
    "from scipy.stats import norm\n",
    "rom scipy.sparse import csr_matrix as sparse\n",
    "from scipy.sparse.linalg import spsolve"
   ]
  },
  {
   "cell_type": "markdown",
   "metadata": {},
   "source": [
    "# paramètres et fonctions"
   ]
  },
  {
   "cell_type": "code",
   "execution_count": 21,
   "metadata": {},
   "outputs": [],
   "source": [
    "K=100\n",
    "X_min=0\n",
    "X_max=200\n",
    "T=1\n",
    "sigma=0.2\n",
    "r=0.1\n",
    "\n",
    "\n",
    "def t(n):\n",
    "    return n*D_t\n",
    "def s(j,h):\n",
    "    return X_min+j*h\n",
    "\n",
    "def alpha(j,h):\n",
    "    var=(sigma*s(j,h))/h\n",
    "    return 0.5*var*var\n",
    "                \n",
    "def beta(j,h):\n",
    "    return 0.5*r*s(j,h)*(1/h)\n",
    "                \n",
    "def uleft(t_n):\n",
    "    return K*np.exp(-r*t_n)-X_min\n",
    "def uright(t_n):\n",
    "    return 0\n",
    "def phi(s_j,dim):\n",
    "       return np.maximum(K-s_j,0).reshape(dim,1)\n",
    "    \n",
    "def q(t,dim,h):\n",
    "    y=np.zeros((dim,1))\n",
    "    y[0]=(-alpha(1,h)+beta(1,h))*uleft(t)\n",
    "    y[-1]=(-alpha(1,h)+beta(1,h))*uright(t)\n",
    "    return y \n",
    "\n",
    "#Black and Scholes formula\n",
    "def BS_PUT(S, K, T, r, sigma):\n",
    "    N1 = norm.cdf\n",
    "    d1 = (np.log(S/K) + (r + sigma**2/2)*T) / (sigma*np.sqrt(T))\n",
    "    d2 = d1 - sigma* np.sqrt(T)\n",
    "    return K*np.exp(-r*T)*N1(-d2) - S*N1(-d1)\n"
   ]
  },
  {
   "cell_type": "markdown",
   "metadata": {},
   "source": [
    "# function calcul tableau"
   ]
  },
  {
   "cell_type": "markdown",
   "metadata": {},
   "source": [
    "## Calcul U,B, CLF, U(s_barre), Erreur et temps de calcul"
   ]
  },
  {
   "cell_type": "code",
   "execution_count": 41,
   "metadata": {},
   "outputs": [],
   "source": [
    "def final_func(I,N,Sc):\n",
    "    tp1=time.time()\n",
    "    #initialisation des param\n",
    "    h=(X_max-X_min)/(I+1)\n",
    "    D_t=T/N\n",
    "    SCHEMA=Sc\n",
    "    S_1=X_min +h*np.arange(1,I+1)\n",
    "    \n",
    "    #création de Q\n",
    "    Q=np.zeros((I,I))\n",
    "    \n",
    "    for i in range(I):\n",
    "        for j in range(I):\n",
    "            if (i==j):\n",
    "                Q[i,j]=2*alpha(i+1,h)+r\n",
    "            elif(i==j-1 ):\n",
    "                Q[i,j]=-alpha(i+1,h)-beta(i+1,h)\n",
    "            elif(i==j+1 ):\n",
    "                Q[i,j]=-alpha(i+1,h)+beta(i+1,h)\n",
    "                \n",
    "                \n",
    "    #Q = sparse((2 * alpha(np.arange(1, I+1), h) + r, np.arange(I), np.arange(I)), shape=(I, I))\n",
    "    #Q += sparse((-alpha(np.arange(2, I+1), h) - beta(np.arange(2, I+1), h), np.arange(1, I), np.arange(I-1)), shape=(I, I))\n",
    "    #Q += sparse((-alpha(np.arange(1, I), h) + beta(np.arange(1, I), h), np.arange(I-1), np.arange(1, I)), shape=(I, I))\n",
    "\n",
    "                \n",
    "    #init de U\n",
    "    U=phi(S_1,I)\n",
    "    U_0=U\n",
    "    Id=np.identity(I)\n",
    "    \n",
    "    #matrice d'amplification\n",
    "    B=Id-D_t*Q\n",
    "    \n",
    "    #nombre CFL  \n",
    "    mu= (D_t*pow(sigma,2)*pow(X_max,2))*(1/pow(h,2))\n",
    "    \n",
    "    #Calcul de U selon le schema\n",
    "    for n in range(0,N+1):\n",
    "\n",
    "        t=n*D_t\n",
    "        if (SCHEMA=='IE'):\n",
    "            U=lng.solve(Id+D_t*Q,U - D_t*q((n+1)*D_t,I,h))\n",
    "        if (SCHEMA=='EE'):\n",
    "            U=(Id-D_t*Q)@U - D_t*q(t,I,h)   \n",
    "        if(SCHEMA=='CN'):\n",
    "            U = lng.solve(Id+D_t*0.5*Q,(Id-0.5*D_t*Q)@U-0.5*D_t*q(t,I,h)-0.5*D_t*q((n+1)*D_t,I,h))  \n",
    "            \n",
    "    \n",
    "    #calcul de U(s_barre) et l'erreur\n",
    "    Sval=90 \n",
    "    i=0\n",
    "    while (S_1[i]<Sval):\n",
    "        i+=1\n",
    "\n",
    "    U_sval=float(((S_1[i]-Sval)/h)*U[i-1] + ((Sval-S_1[i-1])/h)*U[i])\n",
    "    V = BS_PUT(Sval,K,T,r,sigma)\n",
    "    erreur = abs(U_sval - V)\n",
    "    tp2=time.time()\n",
    "    temps_calc=tp2-tp1\n",
    "    return [U_sval,erreur,B,mu,temps_calc]  \n",
    "\n",
    "\n",
    "    \n",
    "    "
   ]
  },
  {
   "cell_type": "code",
   "execution_count": 42,
   "metadata": {},
   "outputs": [
    {
     "name": "stdout",
     "output_type": "stream",
     "text": [
      "0.003376007080078125\n"
     ]
    }
   ],
   "source": []
  },
  {
   "cell_type": "markdown",
   "metadata": {},
   "source": [
    "## Norme matrice d'amplification et nombre CLF "
   ]
  },
  {
   "cell_type": "markdown",
   "metadata": {},
   "source": [
    "### Function affichage results ( B , normes de B et CLF number ) "
   ]
  },
  {
   "cell_type": "code",
   "execution_count": 23,
   "metadata": {},
   "outputs": [],
   "source": [
    "def norm_ampl_matrix_CLF(B,CLF):\n",
    "    norm_inf=lng.norm(B,np.inf)\n",
    "    norm_2=lng.norm(B,2)\n",
    "    print('Amplification ''Matrix : \\n\\n',B,\n",
    "          '\\n \\n',\n",
    "          'Norme 2 =',norm_2,'  Norme inf =',norm_inf, '  CLF Number =',CLF)"
   ]
  },
  {
   "cell_type": "code",
   "execution_count": null,
   "metadata": {},
   "outputs": [],
   "source": []
  },
  {
   "cell_type": "code",
   "execution_count": null,
   "metadata": {},
   "outputs": [],
   "source": []
  },
  {
   "cell_type": "code",
   "execution_count": null,
   "metadata": {},
   "outputs": [],
   "source": []
  },
  {
   "cell_type": "markdown",
   "metadata": {},
   "source": [
    "## Function calcul tabelaux complets selon scheme (I,N,U(s_barre), Erreur, ordre) "
   ]
  },
  {
   "cell_type": "code",
   "execution_count": 28,
   "metadata": {},
   "outputs": [],
   "source": [
    "def mother_of_all_func(schema_choix):\n",
    "    i=1\n",
    "    j=i*10\n",
    "    df_1=pd.DataFrame()\n",
    "    df_2=pd.DataFrame()\n",
    "    inter=[0,1]\n",
    "    while i<7: \n",
    "        if(schema_choix=='EE'):\n",
    "            m=pow(j,2)/10\n",
    "            inter[0]='I=N'\n",
    "            inter[1]='N=(I**2)/10'\n",
    "            if(i==6): break\n",
    "        else:\n",
    "            inter[0]='I=N'\n",
    "            inter[1]='N=I/10'\n",
    "            m=j/10\n",
    "        j=int(j)\n",
    "        m=int(m)\n",
    "        k=j\n",
    "        tab1=final_func(j,k,schema_choix) #Results for I=N\n",
    "        tab2=final_func(j,m,schema_choix) #Results for (I**2/10 si EE sinon I/10)\n",
    "\n",
    "        df_1.at[i,'I']=j\n",
    "        df_1.at[i,'N']=k\n",
    "        df_1.at[i,'U_barre']=tab1[0]\n",
    "        df_1.at[i,'Error']=tab1[1]\n",
    "\n",
    "        df_2.at[i,'I']=j\n",
    "        df_2.at[i,'N']=m\n",
    "        df_2.at[i,'U_barre']=tab2[0]\n",
    "        df_2.at[i,'Error']=tab2[1]\n",
    "        \n",
    "        j=j*2 \n",
    "        i=i+1\n",
    "\n",
    "    #calcul de l'ordre\n",
    "    for i in range(1,df_1.shape[0]+1):\n",
    "\n",
    "        if i>1:\n",
    "            df_1.at[i,'Order']=np.log(df_1.at[i,'Error']/df_1.at[i-1,'Error'])/np.log(2)  # problème rencontré avec e_k+1 \n",
    "\n",
    "    for i in range(1,df_2.shape[0]+1):\n",
    "\n",
    "        if i>1:\n",
    "\n",
    "            df_2.at[i,'Order']=np.log(df_2.at[i,'Error']/df_2.at[i-1,'Error'])/np.log(2)  \n",
    "\n",
    "\n",
    "\n",
    "    display('Results for the '+ schema_choix + ' Scheme ',inter[0],df_1,inter[1],df_2)\n",
    "    #return [df_1,df_2] #remplacer display par ça si on veut la conversion en fichier xlsx [cf. plus bas]\n",
    "\n"
   ]
  },
  {
   "cell_type": "markdown",
   "metadata": {},
   "source": [
    "## Fuction qui calcule tout les résultats des tabelaux à remplir "
   ]
  },
  {
   "cell_type": "markdown",
   "metadata": {},
   "source": [
    "### Function pour afficher les résultats"
   ]
  },
  {
   "cell_type": "code",
   "execution_count": 48,
   "metadata": {},
   "outputs": [],
   "source": [
    "def affiche_all_tab():\n",
    "    choix=['EE','IE','CN']\n",
    "    for i in choix:\n",
    "        print('################')\n",
    "        mother_of_all_func(i)"
   ]
  },
  {
   "cell_type": "code",
   "execution_count": 50,
   "metadata": {},
   "outputs": [],
   "source": [
    "#affiche_all_tab()         #run cette ligne pour afficher. "
   ]
  },
  {
   "cell_type": "markdown",
   "metadata": {},
   "source": [
    "### Résulats convertis en ficher xlsx "
   ]
  },
  {
   "cell_type": "code",
   "execution_count": 51,
   "metadata": {},
   "outputs": [],
   "source": [
    "#run seulement après avoir changer le display en return dans mother_of_all_func()\n",
    "\n",
    "def save_results_xlsx():\n",
    "    choix=['EE','IE','CN']\n",
    "    with pd.ExcelWriter('Resultats_TP.xlsx') as writer: \n",
    "        for i in choix:\n",
    "            d=mother_of_all_func(i)\n",
    "            tab1=d[0]\n",
    "            tab2=d[1]\n",
    "\n",
    "            tab1.to_excel(writer, sheet_name=i+' 1')\n",
    "            tab2.to_excel(writer, sheet_name=i+' 2')\n",
    "\n",
    "#le fichier xlsx se trouve dans le répertoire où vous avez ouvert le Jupyter Notebook "
   ]
  },
  {
   "cell_type": "code",
   "execution_count": null,
   "metadata": {},
   "outputs": [],
   "source": [
    "#save_results_xlsx()             #run seulement après avoir changer le display en return dans mother_of_all_func()"
   ]
  },
  {
   "cell_type": "markdown",
   "metadata": {},
   "source": [
    "# Rapport et Analyse de Résultats \n"
   ]
  },
  {
   "cell_type": "markdown",
   "metadata": {},
   "source": [
    "### Stabilité et Consistance"
   ]
  },
  {
   "cell_type": "markdown",
   "metadata": {},
   "source": [
    "\n"
   ]
  },
  {
   "cell_type": "markdown",
   "metadata": {},
   "source": [
    "\n"
   ]
  },
  {
   "cell_type": "markdown",
   "metadata": {},
   "source": [
    "Dans le schéma (EE), il est est établie que la condition CFL est vérifiée par conséquent le schéma est\n",
    "monotone et stable."
   ]
  },
  {
   "cell_type": "markdown",
   "metadata": {},
   "source": [
    "Afin de mieux comprendre l'origine des oscillations, on étudie la matrice d'amplification B. Pour I=N=10, on constate que les coefficients de B sont presque tous positifs et inférieurs à 1, à l'exception d'un unique coefficient qui est négatif.\n"
   ]
  },
  {
   "cell_type": "markdown",
   "metadata": {},
   "source": [
    "De plus, on observe que ||B||∞=0.994 et ||B||2=0.987, tandis que la CFL est de 0.484, ce qui est inférieur à 1 et confirme la stabilité monotone du schéma."
   ]
  },
  {
   "cell_type": "code",
   "execution_count": null,
   "metadata": {},
   "outputs": [],
   "source": [
    "#run le code suivant\n",
    "\n",
    "B=final_func(10,10,'EE')\n",
    "norm_ampl_matrix_CLF(B[2],B[3])\n"
   ]
  },
  {
   "cell_type": "markdown",
   "metadata": {},
   "source": [
    "Lorsque N=10 et I=50, les coefficients de B ne sont pas tous positifs, et ||B||∞ est de 18.218 tandis que ||B||2 est de 16.47397, des valeurs très supérieures à 1. La CFL pour cette configuration est de 10.404, ce qui n'est pas surprenant car cette valeur est largement supérieure à 1, confirmant ainsi que la condition CFL n'est pas respectée. Par conséquent, le schéma EE avec N=10 et I=50 n'est ni monotone ni stable."
   ]
  },
  {
   "cell_type": "code",
   "execution_count": null,
   "metadata": {},
   "outputs": [],
   "source": [
    "#run le code suivant\n",
    "B=final_func(50,10,'EE')\n",
    "norm_ampl_matrix_CLF(B[2],B[3])\n"
   ]
  },
  {
   "cell_type": "markdown",
   "metadata": {},
   "source": [
    "### Analyse des Résultats (tableaux)"
   ]
  },
  {
   "cell_type": "markdown",
   "metadata": {},
   "source": [
    "#### Euler Explicit  : EE      "
   ]
  },
  {
   "cell_type": "markdown",
   "metadata": {},
   "source": [
    "On constate que les résultats sont satisfaisants pour I=N jusqu'à N=80.\n",
    "En effet, cela est dû au fait que la condition CFL n'est plus satisfaite, ce qui rend le schéma instable.On remarque également que l'odre prend de très grande valeur après I=80 ce qui démontre l'instablitié du schéma. "
   ]
  },
  {
   "cell_type": "markdown",
   "metadata": {},
   "source": [
    "condition CFL est satisfaite pour N=I^2/10. Le schéma est, comme on peut le constater stable.\n",
    "l'ordre reste assez faible et stable comparé à I=N. l’erreur tend vers 0. On remarque également un temps de calcul un peu plus élevé notament à cause du maillage qui s'affine. "
   ]
  },
  {
   "cell_type": "code",
   "execution_count": 30,
   "metadata": {},
   "outputs": [
    {
     "data": {
      "text/plain": [
       "'Results for the EE Scheme '"
      ]
     },
     "metadata": {},
     "output_type": "display_data"
    },
    {
     "data": {
      "text/plain": [
       "'I=N'"
      ]
     },
     "metadata": {},
     "output_type": "display_data"
    },
    {
     "data": {
      "text/html": [
       "<div>\n",
       "<style scoped>\n",
       "    .dataframe tbody tr th:only-of-type {\n",
       "        vertical-align: middle;\n",
       "    }\n",
       "\n",
       "    .dataframe tbody tr th {\n",
       "        vertical-align: top;\n",
       "    }\n",
       "\n",
       "    .dataframe thead th {\n",
       "        text-align: right;\n",
       "    }\n",
       "</style>\n",
       "<table border=\"1\" class=\"dataframe\">\n",
       "  <thead>\n",
       "    <tr style=\"text-align: right;\">\n",
       "      <th></th>\n",
       "      <th>I</th>\n",
       "      <th>N</th>\n",
       "      <th>U_barre</th>\n",
       "      <th>Error</th>\n",
       "      <th>Order</th>\n",
       "    </tr>\n",
       "  </thead>\n",
       "  <tbody>\n",
       "    <tr>\n",
       "      <th>1</th>\n",
       "      <td>10.0</td>\n",
       "      <td>10.0</td>\n",
       "      <td>7.385319e+00</td>\n",
       "      <td>4.740242e-02</td>\n",
       "      <td>NaN</td>\n",
       "    </tr>\n",
       "    <tr>\n",
       "      <th>2</th>\n",
       "      <td>20.0</td>\n",
       "      <td>20.0</td>\n",
       "      <td>7.578832e+00</td>\n",
       "      <td>1.461111e-01</td>\n",
       "      <td>1.624033</td>\n",
       "    </tr>\n",
       "    <tr>\n",
       "      <th>3</th>\n",
       "      <td>40.0</td>\n",
       "      <td>40.0</td>\n",
       "      <td>7.453731e+00</td>\n",
       "      <td>2.100970e-02</td>\n",
       "      <td>-2.797938</td>\n",
       "    </tr>\n",
       "    <tr>\n",
       "      <th>4</th>\n",
       "      <td>80.0</td>\n",
       "      <td>80.0</td>\n",
       "      <td>2.830769e+08</td>\n",
       "      <td>2.830769e+08</td>\n",
       "      <td>33.649419</td>\n",
       "    </tr>\n",
       "    <tr>\n",
       "      <th>5</th>\n",
       "      <td>160.0</td>\n",
       "      <td>160.0</td>\n",
       "      <td>1.212330e+78</td>\n",
       "      <td>1.212330e+78</td>\n",
       "      <td>231.311556</td>\n",
       "    </tr>\n",
       "  </tbody>\n",
       "</table>\n",
       "</div>"
      ],
      "text/plain": [
       "       I      N       U_barre         Error       Order\n",
       "1   10.0   10.0  7.385319e+00  4.740242e-02         NaN\n",
       "2   20.0   20.0  7.578832e+00  1.461111e-01    1.624033\n",
       "3   40.0   40.0  7.453731e+00  2.100970e-02   -2.797938\n",
       "4   80.0   80.0  2.830769e+08  2.830769e+08   33.649419\n",
       "5  160.0  160.0  1.212330e+78  1.212330e+78  231.311556"
      ]
     },
     "metadata": {},
     "output_type": "display_data"
    },
    {
     "data": {
      "text/plain": [
       "'N=(I**2)/10'"
      ]
     },
     "metadata": {},
     "output_type": "display_data"
    },
    {
     "data": {
      "text/html": [
       "<div>\n",
       "<style scoped>\n",
       "    .dataframe tbody tr th:only-of-type {\n",
       "        vertical-align: middle;\n",
       "    }\n",
       "\n",
       "    .dataframe tbody tr th {\n",
       "        vertical-align: top;\n",
       "    }\n",
       "\n",
       "    .dataframe thead th {\n",
       "        text-align: right;\n",
       "    }\n",
       "</style>\n",
       "<table border=\"1\" class=\"dataframe\">\n",
       "  <thead>\n",
       "    <tr style=\"text-align: right;\">\n",
       "      <th></th>\n",
       "      <th>I</th>\n",
       "      <th>N</th>\n",
       "      <th>U_barre</th>\n",
       "      <th>Error</th>\n",
       "      <th>Order</th>\n",
       "    </tr>\n",
       "  </thead>\n",
       "  <tbody>\n",
       "    <tr>\n",
       "      <th>1</th>\n",
       "      <td>10.0</td>\n",
       "      <td>10.0</td>\n",
       "      <td>7.385319</td>\n",
       "      <td>0.047402</td>\n",
       "      <td>NaN</td>\n",
       "    </tr>\n",
       "    <tr>\n",
       "      <th>2</th>\n",
       "      <td>20.0</td>\n",
       "      <td>40.0</td>\n",
       "      <td>7.624265</td>\n",
       "      <td>0.191543</td>\n",
       "      <td>2.014638</td>\n",
       "    </tr>\n",
       "    <tr>\n",
       "      <th>3</th>\n",
       "      <td>40.0</td>\n",
       "      <td>160.0</td>\n",
       "      <td>7.483487</td>\n",
       "      <td>0.050766</td>\n",
       "      <td>-1.915728</td>\n",
       "    </tr>\n",
       "    <tr>\n",
       "      <th>4</th>\n",
       "      <td>80.0</td>\n",
       "      <td>640.0</td>\n",
       "      <td>7.445799</td>\n",
       "      <td>0.013078</td>\n",
       "      <td>-1.956706</td>\n",
       "    </tr>\n",
       "    <tr>\n",
       "      <th>5</th>\n",
       "      <td>160.0</td>\n",
       "      <td>2560.0</td>\n",
       "      <td>7.436041</td>\n",
       "      <td>0.003320</td>\n",
       "      <td>-1.978056</td>\n",
       "    </tr>\n",
       "  </tbody>\n",
       "</table>\n",
       "</div>"
      ],
      "text/plain": [
       "       I       N   U_barre     Error     Order\n",
       "1   10.0    10.0  7.385319  0.047402       NaN\n",
       "2   20.0    40.0  7.624265  0.191543  2.014638\n",
       "3   40.0   160.0  7.483487  0.050766 -1.915728\n",
       "4   80.0   640.0  7.445799  0.013078 -1.956706\n",
       "5  160.0  2560.0  7.436041  0.003320 -1.978056"
      ]
     },
     "metadata": {},
     "output_type": "display_data"
    }
   ],
   "source": [
    "#run le code suivant \n",
    "\n",
    "mother_of_all_func('EE')"
   ]
  },
  {
   "cell_type": "markdown",
   "metadata": {},
   "source": [
    "#### Euler Implicit IE"
   ]
  },
  {
   "cell_type": "markdown",
   "metadata": {},
   "source": [
    "Lorsque la taille de pas I est égale à N dans le schéma implicite d'Euler, la méthode numérique est considérée comme conditionnellement stable. Dans ce cas, la stabilité de la méthode dépend de la relation entre le paramètre alpha et la taille du pas de temps delta. Si cette condition est vérifiée, on peut alors calculer η et trouver une valeur bien définie et bornée.\n",
    "\n",
    "Pour N égal à I au carré, L'erreur reste de l'ordre proche de 1, ce qui signifie que la méthode reste stable pour une large plage de valeurs de I et que la stabilité n'est pas significativement affectée par les variations de la taille du pas de temps du prix de l'actif. En outre, la méthode est monotone, ce qui implique que le prix de l'option à chaque pas de temps ne diminue pas lorsque le prix de l'actif augmente, une caractéristique souhaitable dans les applications financières."
   ]
  },
  {
   "cell_type": "code",
   "execution_count": 52,
   "metadata": {},
   "outputs": [
    {
     "data": {
      "text/plain": [
       "'Results for the IE Scheme '"
      ]
     },
     "metadata": {},
     "output_type": "display_data"
    },
    {
     "data": {
      "text/plain": [
       "'I=N'"
      ]
     },
     "metadata": {},
     "output_type": "display_data"
    },
    {
     "data": {
      "text/html": [
       "<div>\n",
       "<style scoped>\n",
       "    .dataframe tbody tr th:only-of-type {\n",
       "        vertical-align: middle;\n",
       "    }\n",
       "\n",
       "    .dataframe tbody tr th {\n",
       "        vertical-align: top;\n",
       "    }\n",
       "\n",
       "    .dataframe thead th {\n",
       "        text-align: right;\n",
       "    }\n",
       "</style>\n",
       "<table border=\"1\" class=\"dataframe\">\n",
       "  <thead>\n",
       "    <tr style=\"text-align: right;\">\n",
       "      <th></th>\n",
       "      <th>I</th>\n",
       "      <th>N</th>\n",
       "      <th>U_barre</th>\n",
       "      <th>Error</th>\n",
       "      <th>Order</th>\n",
       "    </tr>\n",
       "  </thead>\n",
       "  <tbody>\n",
       "    <tr>\n",
       "      <th>1</th>\n",
       "      <td>10.0</td>\n",
       "      <td>10.0</td>\n",
       "      <td>7.453638</td>\n",
       "      <td>0.020917</td>\n",
       "      <td>NaN</td>\n",
       "    </tr>\n",
       "    <tr>\n",
       "      <th>2</th>\n",
       "      <td>20.0</td>\n",
       "      <td>20.0</td>\n",
       "      <td>7.602018</td>\n",
       "      <td>0.169297</td>\n",
       "      <td>3.016807</td>\n",
       "    </tr>\n",
       "    <tr>\n",
       "      <th>3</th>\n",
       "      <td>40.0</td>\n",
       "      <td>40.0</td>\n",
       "      <td>7.460811</td>\n",
       "      <td>0.028090</td>\n",
       "      <td>-2.591421</td>\n",
       "    </tr>\n",
       "    <tr>\n",
       "      <th>4</th>\n",
       "      <td>80.0</td>\n",
       "      <td>80.0</td>\n",
       "      <td>7.432033</td>\n",
       "      <td>0.000688</td>\n",
       "      <td>-5.352101</td>\n",
       "    </tr>\n",
       "    <tr>\n",
       "      <th>5</th>\n",
       "      <td>160.0</td>\n",
       "      <td>160.0</td>\n",
       "      <td>7.428570</td>\n",
       "      <td>0.004151</td>\n",
       "      <td>2.593733</td>\n",
       "    </tr>\n",
       "    <tr>\n",
       "      <th>6</th>\n",
       "      <td>320.0</td>\n",
       "      <td>320.0</td>\n",
       "      <td>7.429675</td>\n",
       "      <td>0.003047</td>\n",
       "      <td>-0.446391</td>\n",
       "    </tr>\n",
       "  </tbody>\n",
       "</table>\n",
       "</div>"
      ],
      "text/plain": [
       "       I      N   U_barre     Error     Order\n",
       "1   10.0   10.0  7.453638  0.020917       NaN\n",
       "2   20.0   20.0  7.602018  0.169297  3.016807\n",
       "3   40.0   40.0  7.460811  0.028090 -2.591421\n",
       "4   80.0   80.0  7.432033  0.000688 -5.352101\n",
       "5  160.0  160.0  7.428570  0.004151  2.593733\n",
       "6  320.0  320.0  7.429675  0.003047 -0.446391"
      ]
     },
     "metadata": {},
     "output_type": "display_data"
    },
    {
     "data": {
      "text/plain": [
       "'N=I/10'"
      ]
     },
     "metadata": {},
     "output_type": "display_data"
    },
    {
     "data": {
      "text/html": [
       "<div>\n",
       "<style scoped>\n",
       "    .dataframe tbody tr th:only-of-type {\n",
       "        vertical-align: middle;\n",
       "    }\n",
       "\n",
       "    .dataframe tbody tr th {\n",
       "        vertical-align: top;\n",
       "    }\n",
       "\n",
       "    .dataframe thead th {\n",
       "        text-align: right;\n",
       "    }\n",
       "</style>\n",
       "<table border=\"1\" class=\"dataframe\">\n",
       "  <thead>\n",
       "    <tr style=\"text-align: right;\">\n",
       "      <th></th>\n",
       "      <th>I</th>\n",
       "      <th>N</th>\n",
       "      <th>U_barre</th>\n",
       "      <th>Error</th>\n",
       "      <th>Order</th>\n",
       "    </tr>\n",
       "  </thead>\n",
       "  <tbody>\n",
       "    <tr>\n",
       "      <th>1</th>\n",
       "      <td>10.0</td>\n",
       "      <td>1.0</td>\n",
       "      <td>6.379921</td>\n",
       "      <td>1.052800</td>\n",
       "      <td>NaN</td>\n",
       "    </tr>\n",
       "    <tr>\n",
       "      <th>2</th>\n",
       "      <td>20.0</td>\n",
       "      <td>2.0</td>\n",
       "      <td>7.035495</td>\n",
       "      <td>0.397226</td>\n",
       "      <td>-1.406198</td>\n",
       "    </tr>\n",
       "    <tr>\n",
       "      <th>3</th>\n",
       "      <td>40.0</td>\n",
       "      <td>4.0</td>\n",
       "      <td>7.179283</td>\n",
       "      <td>0.253438</td>\n",
       "      <td>-0.648328</td>\n",
       "    </tr>\n",
       "    <tr>\n",
       "      <th>4</th>\n",
       "      <td>80.0</td>\n",
       "      <td>8.0</td>\n",
       "      <td>7.289751</td>\n",
       "      <td>0.142970</td>\n",
       "      <td>-0.825922</td>\n",
       "    </tr>\n",
       "    <tr>\n",
       "      <th>5</th>\n",
       "      <td>160.0</td>\n",
       "      <td>16.0</td>\n",
       "      <td>7.356802</td>\n",
       "      <td>0.075919</td>\n",
       "      <td>-0.913175</td>\n",
       "    </tr>\n",
       "    <tr>\n",
       "      <th>6</th>\n",
       "      <td>320.0</td>\n",
       "      <td>32.0</td>\n",
       "      <td>7.393601</td>\n",
       "      <td>0.039120</td>\n",
       "      <td>-0.956562</td>\n",
       "    </tr>\n",
       "  </tbody>\n",
       "</table>\n",
       "</div>"
      ],
      "text/plain": [
       "       I     N   U_barre     Error     Order\n",
       "1   10.0   1.0  6.379921  1.052800       NaN\n",
       "2   20.0   2.0  7.035495  0.397226 -1.406198\n",
       "3   40.0   4.0  7.179283  0.253438 -0.648328\n",
       "4   80.0   8.0  7.289751  0.142970 -0.825922\n",
       "5  160.0  16.0  7.356802  0.075919 -0.913175\n",
       "6  320.0  32.0  7.393601  0.039120 -0.956562"
      ]
     },
     "metadata": {},
     "output_type": "display_data"
    }
   ],
   "source": [
    "#run le code suivant \n",
    "\n",
    "mother_of_all_func('IE')"
   ]
  },
  {
   "cell_type": "markdown",
   "metadata": {},
   "source": [
    "#### Crank-Nicolson CN"
   ]
  },
  {
   "cell_type": "markdown",
   "metadata": {},
   "source": [
    "On constate que le schéma de Crank_nicolson est assez stable pour I=N. L'odre est égaelment inférieur à la racine carré de delta t. La même remarquqe est applicable à N=I/10"
   ]
  },
  {
   "cell_type": "code",
   "execution_count": 62,
   "metadata": {},
   "outputs": [
    {
     "data": {
      "text/plain": [
       "'Results for the CN Scheme '"
      ]
     },
     "metadata": {},
     "output_type": "display_data"
    },
    {
     "data": {
      "text/plain": [
       "'I=N'"
      ]
     },
     "metadata": {},
     "output_type": "display_data"
    },
    {
     "data": {
      "text/html": [
       "<div>\n",
       "<style scoped>\n",
       "    .dataframe tbody tr th:only-of-type {\n",
       "        vertical-align: middle;\n",
       "    }\n",
       "\n",
       "    .dataframe tbody tr th {\n",
       "        vertical-align: top;\n",
       "    }\n",
       "\n",
       "    .dataframe thead th {\n",
       "        text-align: right;\n",
       "    }\n",
       "</style>\n",
       "<table border=\"1\" class=\"dataframe\">\n",
       "  <thead>\n",
       "    <tr style=\"text-align: right;\">\n",
       "      <th></th>\n",
       "      <th>I</th>\n",
       "      <th>N</th>\n",
       "      <th>U_barre</th>\n",
       "      <th>Error</th>\n",
       "      <th>Order</th>\n",
       "    </tr>\n",
       "  </thead>\n",
       "  <tbody>\n",
       "    <tr>\n",
       "      <th>1</th>\n",
       "      <td>10.0</td>\n",
       "      <td>10.0</td>\n",
       "      <td>7.419205</td>\n",
       "      <td>0.013516</td>\n",
       "      <td>NaN</td>\n",
       "    </tr>\n",
       "    <tr>\n",
       "      <th>2</th>\n",
       "      <td>20.0</td>\n",
       "      <td>20.0</td>\n",
       "      <td>7.590105</td>\n",
       "      <td>0.157383</td>\n",
       "      <td>3.541546</td>\n",
       "    </tr>\n",
       "    <tr>\n",
       "      <th>3</th>\n",
       "      <td>40.0</td>\n",
       "      <td>40.0</td>\n",
       "      <td>7.457187</td>\n",
       "      <td>0.024466</td>\n",
       "      <td>-2.685450</td>\n",
       "    </tr>\n",
       "    <tr>\n",
       "      <th>4</th>\n",
       "      <td>80.0</td>\n",
       "      <td>80.0</td>\n",
       "      <td>7.430539</td>\n",
       "      <td>0.002182</td>\n",
       "      <td>-3.487155</td>\n",
       "    </tr>\n",
       "    <tr>\n",
       "      <th>5</th>\n",
       "      <td>160.0</td>\n",
       "      <td>160.0</td>\n",
       "      <td>7.427866</td>\n",
       "      <td>0.004855</td>\n",
       "      <td>1.153993</td>\n",
       "    </tr>\n",
       "    <tr>\n",
       "      <th>6</th>\n",
       "      <td>320.0</td>\n",
       "      <td>320.0</td>\n",
       "      <td>7.429329</td>\n",
       "      <td>0.003392</td>\n",
       "      <td>-0.517235</td>\n",
       "    </tr>\n",
       "  </tbody>\n",
       "</table>\n",
       "</div>"
      ],
      "text/plain": [
       "       I      N   U_barre     Error     Order\n",
       "1   10.0   10.0  7.419205  0.013516       NaN\n",
       "2   20.0   20.0  7.590105  0.157383  3.541546\n",
       "3   40.0   40.0  7.457187  0.024466 -2.685450\n",
       "4   80.0   80.0  7.430539  0.002182 -3.487155\n",
       "5  160.0  160.0  7.427866  0.004855  1.153993\n",
       "6  320.0  320.0  7.429329  0.003392 -0.517235"
      ]
     },
     "metadata": {},
     "output_type": "display_data"
    },
    {
     "data": {
      "text/plain": [
       "'N=I/10'"
      ]
     },
     "metadata": {},
     "output_type": "display_data"
    },
    {
     "data": {
      "text/html": [
       "<div>\n",
       "<style scoped>\n",
       "    .dataframe tbody tr th:only-of-type {\n",
       "        vertical-align: middle;\n",
       "    }\n",
       "\n",
       "    .dataframe tbody tr th {\n",
       "        vertical-align: top;\n",
       "    }\n",
       "\n",
       "    .dataframe thead th {\n",
       "        text-align: right;\n",
       "    }\n",
       "</style>\n",
       "<table border=\"1\" class=\"dataframe\">\n",
       "  <thead>\n",
       "    <tr style=\"text-align: right;\">\n",
       "      <th></th>\n",
       "      <th>I</th>\n",
       "      <th>N</th>\n",
       "      <th>U_barre</th>\n",
       "      <th>Error</th>\n",
       "      <th>Order</th>\n",
       "    </tr>\n",
       "  </thead>\n",
       "  <tbody>\n",
       "    <tr>\n",
       "      <th>1</th>\n",
       "      <td>10.0</td>\n",
       "      <td>1.0</td>\n",
       "      <td>6.058045</td>\n",
       "      <td>1.374677</td>\n",
       "      <td>NaN</td>\n",
       "    </tr>\n",
       "    <tr>\n",
       "      <th>2</th>\n",
       "      <td>20.0</td>\n",
       "      <td>2.0</td>\n",
       "      <td>6.908417</td>\n",
       "      <td>0.524304</td>\n",
       "      <td>-1.390617</td>\n",
       "    </tr>\n",
       "    <tr>\n",
       "      <th>3</th>\n",
       "      <td>40.0</td>\n",
       "      <td>4.0</td>\n",
       "      <td>7.138036</td>\n",
       "      <td>0.294685</td>\n",
       "      <td>-0.831229</td>\n",
       "    </tr>\n",
       "    <tr>\n",
       "      <th>4</th>\n",
       "      <td>80.0</td>\n",
       "      <td>8.0</td>\n",
       "      <td>7.272781</td>\n",
       "      <td>0.159940</td>\n",
       "      <td>-0.881646</td>\n",
       "    </tr>\n",
       "    <tr>\n",
       "      <th>5</th>\n",
       "      <td>160.0</td>\n",
       "      <td>16.0</td>\n",
       "      <td>7.349323</td>\n",
       "      <td>0.083398</td>\n",
       "      <td>-0.939448</td>\n",
       "    </tr>\n",
       "    <tr>\n",
       "      <th>6</th>\n",
       "      <td>320.0</td>\n",
       "      <td>32.0</td>\n",
       "      <td>7.390026</td>\n",
       "      <td>0.042695</td>\n",
       "      <td>-0.965937</td>\n",
       "    </tr>\n",
       "  </tbody>\n",
       "</table>\n",
       "</div>"
      ],
      "text/plain": [
       "       I     N   U_barre     Error     Order\n",
       "1   10.0   1.0  6.058045  1.374677       NaN\n",
       "2   20.0   2.0  6.908417  0.524304 -1.390617\n",
       "3   40.0   4.0  7.138036  0.294685 -0.831229\n",
       "4   80.0   8.0  7.272781  0.159940 -0.881646\n",
       "5  160.0  16.0  7.349323  0.083398 -0.939448\n",
       "6  320.0  32.0  7.390026  0.042695 -0.965937"
      ]
     },
     "metadata": {},
     "output_type": "display_data"
    }
   ],
   "source": [
    "#run le code suivant \n",
    "\n",
    "mother_of_all_func('CN')"
   ]
  },
  {
   "cell_type": "markdown",
   "metadata": {},
   "source": [
    "### Temps de calcul "
   ]
  },
  {
   "cell_type": "markdown",
   "metadata": {},
   "source": [
    "En apportant une légère modification au code qui consiste à utiliser la méthode spsolve pour calculer la matrice Q, nous constatons une nette amélioration de la vitesse d'exécution par rapport à la méthode précédente. On pose  I=400 et N=45, en utilisant le schéma Euler Implicit. Le temps d'exécution obtenu avec la méthode initiale est de 0.1456724s. En revanche, le temps d'exécution obtenu avec la méthode spsolve est de 0.07634892s."
   ]
  },
  {
   "cell_type": "code",
   "execution_count": 64,
   "metadata": {},
   "outputs": [
    {
     "name": "stdout",
     "output_type": "stream",
     "text": [
      "0.12172794342041016\n"
     ]
    }
   ],
   "source": [
    "affiche_temps=final_func(400,45,'IE')\n",
    "#à comparer en utilisant les fcts de création de Q avec spsolve. \n",
    "print(affiche_temps[4])"
   ]
  },
  {
   "cell_type": "markdown",
   "metadata": {},
   "source": []
  },
  {
   "cell_type": "code",
   "execution_count": null,
   "metadata": {},
   "outputs": [],
   "source": []
  }
 ],
 "metadata": {
  "kernelspec": {
   "display_name": "Python 3",
   "language": "python",
   "name": "python3"
  },
  "language_info": {
   "codemirror_mode": {
    "name": "ipython",
    "version": 3
   },
   "file_extension": ".py",
   "mimetype": "text/x-python",
   "name": "python",
   "nbconvert_exporter": "python",
   "pygments_lexer": "ipython3",
   "version": "3.8.5"
  }
 },
 "nbformat": 4,
 "nbformat_minor": 4
}
